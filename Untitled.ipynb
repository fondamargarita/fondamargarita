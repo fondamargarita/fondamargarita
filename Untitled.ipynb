{
 "cells": [
  {
   "cell_type": "code",
   "execution_count": 3,
   "metadata": {},
   "outputs": [],
   "source": [
    "from PIL import Image\n",
    "import os\n",
    "from tqdm import tqdm"
   ]
  },
  {
   "cell_type": "code",
   "execution_count": 18,
   "metadata": {},
   "outputs": [
    {
     "name": "stdout",
     "output_type": "stream",
     "text": [
      "<PIL.PngImagePlugin.PngImageFile image mode=RGBA size=200x150 at 0x7FFC26263730>\n",
      "(200, 150)\n",
      "<PIL.PngImagePlugin.PngImageFile image mode=RGBA size=200x150 at 0x7FFC262635B0>\n",
      "(200, 150)\n",
      "<PIL.PngImagePlugin.PngImageFile image mode=RGBA size=200x150 at 0x7FFC262635B0>\n",
      "(200, 150)\n"
     ]
    }
   ],
   "source": [
    "for imagen in os.listdir('desayunos'):\n",
    "    try:\n",
    "        img = Image.open(f'desayunos/{imagen}')\n",
    "        print(img.size)\n",
    "        img = img.resize((200,150), Image.ANTIALIAS)\n",
    "        print(img.size)\n",
    "        img.save(f'desayunos/{imagen}',optimize=True,quality=95)\n",
    "    except:\n",
    "        continue"
   ]
  },
  {
   "cell_type": "code",
   "execution_count": null,
   "metadata": {},
   "outputs": [],
   "source": []
  }
 ],
 "metadata": {
  "kernelspec": {
   "display_name": "Python 3",
   "language": "python",
   "name": "python3"
  },
  "language_info": {
   "codemirror_mode": {
    "name": "ipython",
    "version": 3
   },
   "file_extension": ".py",
   "mimetype": "text/x-python",
   "name": "python",
   "nbconvert_exporter": "python",
   "pygments_lexer": "ipython3",
   "version": "3.8.3"
  }
 },
 "nbformat": 4,
 "nbformat_minor": 4
}
