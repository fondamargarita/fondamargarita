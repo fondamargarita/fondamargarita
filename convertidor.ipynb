{
 "cells": [
  {
   "cell_type": "code",
   "execution_count": 36,
   "metadata": {},
   "outputs": [],
   "source": [
    "from PIL import Image\n",
    "import os\n",
    "from tqdm import tqdm\n",
    "import re"
   ]
  },
  {
   "cell_type": "code",
   "execution_count": 20,
   "metadata": {},
   "outputs": [
    {
     "name": "stdout",
     "output_type": "stream",
     "text": [
      "(2481, 3189)\n",
      "(1440, 2560)\n",
      "(2481, 3189)\n",
      "(1440, 2560)\n",
      "(2480, 3189)\n",
      "(1440, 2560)\n"
     ]
    }
   ],
   "source": [
    "for imagen in os.listdir('desayunos'):\n",
    "    try:\n",
    "        img = Image.open(f'desayunos/{imagen}')\n",
    "        print(img.size)\n",
    "        img = img.resize((1440,2560), Image.ANTIALIAS)\n",
    "        print(img.size)\n",
    "        img.save(f'desayunos/{imagen}',optimize=True,quality=95)\n",
    "    except:\n",
    "        continue"
   ]
  },
  {
   "cell_type": "code",
   "execution_count": 46,
   "metadata": {},
   "outputs": [],
   "source": [
    "def convertir(path):\n",
    "    for imagen in os.listdir(path):\n",
    "        try:\n",
    "            img = Image.open(f'{path}/{imagen}')\n",
    "            imagen = re.sub('\\.png','',imagen)\n",
    "            print(img.size)\n",
    "            rgb = img.convert('RGB')\n",
    "            rgb.save(f'{path}/{imagen}.jpg',optimize=True)\n",
    "            print(rgb.size)\n",
    "            count += 1\n",
    "        except:\n",
    "            continue"
   ]
  },
  {
   "cell_type": "code",
   "execution_count": 47,
   "metadata": {},
   "outputs": [
    {
     "name": "stdout",
     "output_type": "stream",
     "text": [
      "(2481, 3189)\n",
      "(2481, 3189)\n",
      "(2481, 3189)\n",
      "(2481, 3189)\n",
      "(2480, 3189)\n",
      "(2480, 3189)\n"
     ]
    }
   ],
   "source": [
    "convertir('desayunos')"
   ]
  },
  {
   "cell_type": "code",
   "execution_count": null,
   "metadata": {},
   "outputs": [],
   "source": []
  }
 ],
 "metadata": {
  "kernelspec": {
   "display_name": "Python 3",
   "language": "python",
   "name": "python3"
  },
  "language_info": {
   "codemirror_mode": {
    "name": "ipython",
    "version": 3
   },
   "file_extension": ".py",
   "mimetype": "text/x-python",
   "name": "python",
   "nbconvert_exporter": "python",
   "pygments_lexer": "ipython3",
   "version": "3.8.3"
  }
 },
 "nbformat": 4,
 "nbformat_minor": 4
}
